{
 "cells": [
  {
   "cell_type": "markdown",
   "id": "490d0310-6cc8-4b79-b9d3-521ec389d93a",
   "metadata": {},
   "source": [
    "# TP2 "
   ]
  },
  {
   "cell_type": "code",
   "execution_count": 1,
   "id": "c938cbaf-fbc2-40e5-8b10-45c7ebc2d81c",
   "metadata": {
    "tags": []
   },
   "outputs": [
    {
     "name": "stderr",
     "output_type": "stream",
     "text": [
      "Le chargement a nécessité le package : ggplot2\n",
      "\n",
      "Le chargement a nécessité le package : ggpubr\n",
      "\n",
      "\n",
      "Attachement du package : 'survminer'\n",
      "\n",
      "\n",
      "L'objet suivant est masqué depuis 'package:survival':\n",
      "\n",
      "    myeloma\n",
      "\n",
      "\n"
     ]
    }
   ],
   "source": [
    "library(survival)\n",
    "library(survminer)\n",
    "library(ggplot2)"
   ]
  },
  {
   "cell_type": "markdown",
   "id": "903a532a-716c-4b25-80dc-d87c8d899ddc",
   "metadata": {},
   "source": [
    "## Exercice 1 : Parametric Regression model\n",
    "\n",
    "### Question 1 : dataset Tongue\n",
    "\n",
    "#### a) Logrank and Gehan-Wilcoxon test sur covariable type"
   ]
  },
  {
   "cell_type": "code",
   "execution_count": 2,
   "id": "06d3c6d6-0b91-40a3-af67-9820ba45e3e1",
   "metadata": {
    "tags": []
   },
   "outputs": [
    {
     "data": {
      "text/html": [
       "<table class=\"dataframe\">\n",
       "<caption>A data.frame: 6 × 4</caption>\n",
       "<thead>\n",
       "\t<tr><th></th><th scope=col>X</th><th scope=col>type</th><th scope=col>time</th><th scope=col>delta</th></tr>\n",
       "\t<tr><th></th><th scope=col>&lt;int&gt;</th><th scope=col>&lt;int&gt;</th><th scope=col>&lt;int&gt;</th><th scope=col>&lt;int&gt;</th></tr>\n",
       "</thead>\n",
       "<tbody>\n",
       "\t<tr><th scope=row>1</th><td>1</td><td>1</td><td> 1</td><td>1</td></tr>\n",
       "\t<tr><th scope=row>2</th><td>2</td><td>1</td><td> 3</td><td>1</td></tr>\n",
       "\t<tr><th scope=row>3</th><td>3</td><td>1</td><td> 3</td><td>1</td></tr>\n",
       "\t<tr><th scope=row>4</th><td>4</td><td>1</td><td> 4</td><td>1</td></tr>\n",
       "\t<tr><th scope=row>5</th><td>5</td><td>1</td><td>10</td><td>1</td></tr>\n",
       "\t<tr><th scope=row>6</th><td>6</td><td>1</td><td>13</td><td>1</td></tr>\n",
       "</tbody>\n",
       "</table>\n"
      ],
      "text/latex": [
       "A data.frame: 6 × 4\n",
       "\\begin{tabular}{r|llll}\n",
       "  & X & type & time & delta\\\\\n",
       "  & <int> & <int> & <int> & <int>\\\\\n",
       "\\hline\n",
       "\t1 & 1 & 1 &  1 & 1\\\\\n",
       "\t2 & 2 & 1 &  3 & 1\\\\\n",
       "\t3 & 3 & 1 &  3 & 1\\\\\n",
       "\t4 & 4 & 1 &  4 & 1\\\\\n",
       "\t5 & 5 & 1 & 10 & 1\\\\\n",
       "\t6 & 6 & 1 & 13 & 1\\\\\n",
       "\\end{tabular}\n"
      ],
      "text/markdown": [
       "\n",
       "A data.frame: 6 × 4\n",
       "\n",
       "| <!--/--> | X &lt;int&gt; | type &lt;int&gt; | time &lt;int&gt; | delta &lt;int&gt; |\n",
       "|---|---|---|---|---|\n",
       "| 1 | 1 | 1 |  1 | 1 |\n",
       "| 2 | 2 | 1 |  3 | 1 |\n",
       "| 3 | 3 | 1 |  3 | 1 |\n",
       "| 4 | 4 | 1 |  4 | 1 |\n",
       "| 5 | 5 | 1 | 10 | 1 |\n",
       "| 6 | 6 | 1 | 13 | 1 |\n",
       "\n"
      ],
      "text/plain": [
       "  X type time delta\n",
       "1 1 1     1   1    \n",
       "2 2 1     3   1    \n",
       "3 3 1     3   1    \n",
       "4 4 1     4   1    \n",
       "5 5 1    10   1    \n",
       "6 6 1    13   1    "
      ]
     },
     "metadata": {},
     "output_type": "display_data"
    }
   ],
   "source": [
    "tongue <- read.csv2(file = \"tongue.csv\", header = TRUE, sep = ';')\n",
    "head(tongue)"
   ]
  },
  {
   "cell_type": "code",
   "execution_count": 3,
   "id": "91f6aba7-abff-48dc-9ebb-6e15afe8640b",
   "metadata": {
    "tags": []
   },
   "outputs": [
    {
     "name": "stdout",
     "output_type": "stream",
     "text": [
      "[1] \"Logrank test\"\n",
      "Call:\n",
      "survdiff(formula = surv ~ type, data = donnee)\n",
      "\n",
      "        N Observed Expected (O-E)^2/E (O-E)^2/V\n",
      "type=1 52       31     36.6     0.843      2.79\n",
      "type=2 28       22     16.4     1.873      2.79\n",
      "\n",
      " Chisq= 2.8  on 1 degrees of freedom, p= 0.09 \n",
      "[1] \"Gehan-Wilcoxon test\"\n",
      "Call:\n",
      "survdiff(formula = surv ~ type, data = donnee, rho = 1)\n",
      "\n",
      "        N Observed Expected (O-E)^2/E (O-E)^2/V\n",
      "type=1 52     20.2     24.4     0.731       3.3\n",
      "type=2 28     15.1     10.9     1.643       3.3\n",
      "\n",
      " Chisq= 3.3  on 1 degrees of freedom, p= 0.07 \n"
     ]
    },
    {
     "data": {
      "image/png": "[encoded data removed]",
      "text/plain": [
       "plot without title"
      ]
     },
     "metadata": {
      "image/png": {
       "height": 420,
       "width": 420
      }
     },
     "output_type": "display_data"
    }
   ],
   "source": [
    "donnee = tongue\n",
    "time = donnee$time\n",
    "event = donnee$delta\n",
    "\n",
    "surv <- Surv(time,event)\n",
    "\n",
    "# Test de log-rank (test par défaut), test de différence significative entre les distributions\n",
    "logrank_test <- survdiff(surv ~ type, data = donnee)\n",
    "print('Logrank test')\n",
    "print(logrank_test)\n",
    "\n",
    "# Test de Gehan-Wilcoxon (rho = 1)\n",
    "gehan_wilcoxon_test <- survdiff(surv ~ type, data = donnee, rho = 1)\n",
    "print('Gehan-Wilcoxon test')\n",
    "print(gehan_wilcoxon_test)\n",
    "\n",
    "survfit_model <- survfit(surv ~ type, data = donnee, conf.int = 0.95)\n",
    "\n",
    "# Afficher la courbe de survie séparée par sexe avec p-value\n",
    "ggsurvplot(survfit_model, \n",
    "           conf.int = TRUE,               # Ajouter les intervalles de confiance\n",
    "           pval = TRUE,                   # Afficher la p-value\n",
    "           risk.table = TRUE,             # Ajouter un tableau des risques\n",
    "           legend.title = \"Type\",         # Titre de la légende\n",
    "           legend.labs = unique(donnee$type))  # Labels de la légende"
   ]
  },
  {
   "cell_type": "markdown",
   "id": "c253c892-3e58-431c-b5ee-1107ef120963",
   "metadata": {},
   "source": [
    "- Les p-valeurs ne sont pas significatives (supérieures à 0.05) donc on rejette l'hypothèse d'une différence significative entre les deux distributions. Le type n'influence pas sur la durée de vie. "
   ]
  },
  {
   "cell_type": "markdown",
   "id": "252e8a7d-2ac1-4898-9285-bd8eaf5eddb0",
   "metadata": {},
   "source": [
    "#### b1) Meilleur model avec ou sans covariable, test avec R2 (plus long)\n",
    "\n",
    "**Création des modèles avec covariables :**"
   ]
  },
  {
   "cell_type": "code",
   "execution_count": 4,
   "id": "1aad8273-5514-420f-bb55-fe95f274e971",
   "metadata": {
    "tags": []
   },
   "outputs": [],
   "source": [
    "survfit_model <- survfit(surv ~ type, data = donnee, conf.int = 0.95) #prise en compte de la covariable type \n",
    "\n",
    "# Transformation de la survie pour les modèles\n",
    "time <- survfit_model$time\n",
    "survival_prob <- survfit_model$surv\n",
    "\n",
    "# Transformation pour Weibull : log(-log(survival)) vs log(time)\n",
    "log_log_survival <- log(-log(survival_prob))\n",
    "log_time <- log(time)\n",
    "weibull_model <- lm(log_time ~ log_log_survival)\n",
    "\n",
    "# Transformation pour Log-normal : log(survival) vs log(time)\n",
    "norm_survival <- qnorm(survival_prob)\n",
    "lognormal_model <- lm(log_time ~ norm_survival)\n"
   ]
  },
  {
   "cell_type": "code",
   "execution_count": 5,
   "id": "ff00ce1c-ee5d-4656-a7a3-f5c7c9380e70",
   "metadata": {},
   "outputs": [
    {
     "data": {
      "image/png": "[encoded data removed]",
      "text/plain": [
       "Plot with title \"Log-normal Hazard Plot\""
      ]
     },
     "metadata": {
      "image/png": {
       "height": 360,
       "width": 960
      }
     },
     "output_type": "display_data"
    }
   ],
   "source": [
    "# Tracer les résultats\n",
    "par(mfrow = c(1, 2)) \n",
    "options(repr.plot.width = 16, repr.plot.height = 6)\n",
    "\n",
    "# Weibull - Tracer le graphique et ajouter la ligne y = x\n",
    "plot(log_log_survival, log_time,main = \"Weibull Hazard Plot\", xlab = \"log(Time)\", ylab = \"log(-log(Survival))\", pch = 16)\n",
    "abline(weibull_model, col = \"blue\")\n",
    "\n",
    "# Log-normal - Tracer le graphique et ajouter la ligne y = x\n",
    "plot(norm_survival, log_time, main = \"Log-normal Hazard Plot\", xlab = \"log(Time)\", ylab = \"log(Survival)\", pch = 16)\n",
    "abline(lognormal_model, col = \"blue\")"
   ]
  },
  {
   "cell_type": "code",
   "execution_count": 6,
   "id": "38f99c78-95d3-4f0a-8179-177b70f00046",
   "metadata": {
    "tags": []
   },
   "outputs": [
    {
     "name": "stdout",
     "output_type": "stream",
     "text": [
      "[1] \"Model weibull :  0.892864153628583\"\n",
      "[1] \"Model lognormal :  0.846906700201974\"\n"
     ]
    }
   ],
   "source": [
    "print(paste(\"Model weibull : \",summary(weibull_model)$r.squared))\n",
    "print(paste(\"Model lognormal : \",summary(lognormal_model)$r.squared))"
   ]
  },
  {
   "cell_type": "markdown",
   "id": "5cfaa349-cb08-438d-9c31-e91b06440233",
   "metadata": {},
   "source": [
    "**Création des modèles sans covariable :**"
   ]
  },
  {
   "cell_type": "code",
   "execution_count": 6,
   "id": "bb8e36a3-53fd-4774-bc2c-1424248e8000",
   "metadata": {
    "tags": []
   },
   "outputs": [
    {
     "data": {
      "image/png": "[encoded data removed]",
      "text/plain": [
       "Plot with title “Log-normal Hazard Plot”"
      ]
     },
     "metadata": {
      "image/png": {
       "height": 360,
       "width": 960
      }
     },
     "output_type": "display_data"
    }
   ],
   "source": [
    "survfit_model <- survfit(surv ~ 1, data = donnee, conf.int = 0.95) # pas de covariables \n",
    "\n",
    "# Transformation de la survie pour les modèles\n",
    "time <- survfit_model$time\n",
    "survival_prob <- survfit_model$surv\n",
    "\n",
    "# Transformation pour Weibull : log(-log(survival)) vs log(time)\n",
    "log_log_survival <- log(-log(survival_prob))\n",
    "log_time <- log(time)\n",
    "weibull_model <- lm(log_time ~ log_log_survival)\n",
    "\n",
    "# Transformation pour Log-normal : log(survival) vs log(time)\n",
    "norm_survival <- qnorm(survival_prob)\n",
    "lognormal_model <- lm(log_time ~ norm_survival)\n",
    "\n",
    "# Tracer les résultats\n",
    "par(mfrow = c(1, 2)) \n",
    "options(repr.plot.width = 16, repr.plot.height = 6)\n",
    "\n",
    "# Weibull - Tracer le graphique et ajouter la ligne y = x\n",
    "plot(log_log_survival, log_time,main = \"Weibull Hazard Plot\", xlab = \"log(Time)\", ylab = \"log(-log(Survival))\", pch = 16)\n",
    "abline(weibull_model, col = \"blue\")\n",
    "\n",
    "# Log-normal - Tracer le graphique et ajouter la ligne y = x\n",
    "plot(norm_survival, log_time, main = \"Log-normal Hazard Plot\", xlab = \"log(Time)\", ylab = \"log(Survival)\", pch = 16)\n",
    "abline(lognormal_model, col = \"blue\")"
   ]
  },
  {
   "cell_type": "code",
   "execution_count": 7,
   "id": "cc6ef767-46a6-49f6-8703-b3a992b4f5cc",
   "metadata": {
    "tags": []
   },
   "outputs": [
    {
     "name": "stdout",
     "output_type": "stream",
     "text": [
      "[1] \"Model weibull :  0.984953572735795\"\n",
      "[1] \"Model lognormal :  0.95622084664154\"\n"
     ]
    }
   ],
   "source": [
    "print(paste(\"Model weibull : \",summary(weibull_model)$r.squared))\n",
    "print(paste(\"Model lognormal : \",summary(lognormal_model)$r.squared))"
   ]
  },
  {
   "cell_type": "markdown",
   "id": "7a95496c-46f0-4d61-948e-3505c9e88bbb",
   "metadata": {},
   "source": [
    "- On peut voir que les modèles sans covariables ont des valeurs de R2 plus grandes que celles des modèles avec covariables. Cela veut dire que nos modèles sont mielleurs sans la covariable type."
   ]
  },
  {
   "cell_type": "markdown",
   "id": "47d9cb34-80ca-4d0f-9e53-4bd3a3e746cd",
   "metadata": {},
   "source": [
    "#### b2) Meilleur model avec ou sans covariable, test avec survreg"
   ]
  },
  {
   "cell_type": "code",
   "execution_count": 7,
   "id": "1cf97a03-0e25-41b4-ba7e-a6af7d028095",
   "metadata": {
    "tags": []
   },
   "outputs": [
    {
     "name": "stdout",
     "output_type": "stream",
     "text": [
      "[1] \"Weibull\"\n"
     ]
    },
    {
     "data": {
      "text/plain": [
       "\n",
       "Call:\n",
       "survreg(formula = surv ~ type, data = donnee, dist = \"weibull\")\n",
       "             Value Std. Error     z      p\n",
       "(Intercept)  5.641      0.528 10.68 <2e-16\n",
       "type        -0.669      0.351 -1.91  0.057\n",
       "Log(scale)   0.216      0.116  1.87  0.062\n",
       "\n",
       "Scale= 1.24 \n",
       "\n",
       "Weibull distribution\n",
       "Loglik(model)= -298.9   Loglik(intercept only)= -300.7\n",
       "\tChisq= 3.58 on 1 degrees of freedom, p= 0.059 \n",
       "Number of Newton-Raphson Iterations: 5 \n",
       "n= 80 \n"
      ]
     },
     "metadata": {},
     "output_type": "display_data"
    },
    {
     "name": "stdout",
     "output_type": "stream",
     "text": [
      "[1] \"Log-normal\"\n"
     ]
    },
    {
     "data": {
      "text/plain": [
       "\n",
       "Call:\n",
       "survreg(formula = surv ~ type, data = donnee, dist = \"lognormal\")\n",
       "             Value Std. Error     z       p\n",
       "(Intercept)  5.256      0.607  8.66 < 2e-16\n",
       "type        -0.806      0.415 -1.94   0.052\n",
       "Log(scale)   0.519      0.103  5.05 4.3e-07\n",
       "\n",
       "Scale= 1.68 \n",
       "\n",
       "Log Normal distribution\n",
       "Loglik(model)= -298.7   Loglik(intercept only)= -300.6\n",
       "\tChisq= 3.75 on 1 degrees of freedom, p= 0.053 \n",
       "Number of Newton-Raphson Iterations: 3 \n",
       "n= 80 \n"
      ]
     },
     "metadata": {},
     "output_type": "display_data"
    }
   ],
   "source": [
    "# Fit a Weibull regression model\n",
    "weibull_model <- survreg(surv ~ type, data = donnee, dist = \"weibull\")\n",
    "print('Weibull')\n",
    "summary(weibull_model)\n",
    "\n",
    "# Fit a lognormal regression model\n",
    "lognormal_model <- survreg(surv ~ type, data = donnee, dist = \"lognormal\")\n",
    "print('Log-normal')\n",
    "summary(lognormal_model)"
   ]
  },
  {
   "cell_type": "markdown",
   "id": "dfaddbe8-f439-4dad-b9b1-11713ea1abd0",
   "metadata": {},
   "source": [
    "- La **p-value validité globale** du modèle teste si on peut avoir toutes les variables nulles contre au moins une non nulle. \n",
    "- Ici les p-valeurs sont de 0.059 (Weibull) et 0.053 (Log-normal) donc > 0.05 donc on ne rejette pas H0 soit la covariable est nulle. "
   ]
  },
  {
   "cell_type": "markdown",
   "id": "64a77736-f0f1-4b4b-b62c-98c97683d876",
   "metadata": {},
   "source": [
    "### Question 2 : Larynx data"
   ]
  },
  {
   "cell_type": "code",
   "execution_count": 9,
   "id": "de20afc5-b755-48c2-9569-ca2b2545ff0f",
   "metadata": {
    "tags": []
   },
   "outputs": [
    {
     "data": {
      "text/html": [
       "<table class=\"dataframe\">\n",
       "<caption>A data.frame: 6 × 5</caption>\n",
       "<thead>\n",
       "\t<tr><th></th><th scope=col>stage</th><th scope=col>time</th><th scope=col>age</th><th scope=col>diagyr</th><th scope=col>delta</th></tr>\n",
       "\t<tr><th></th><th scope=col>&lt;int&gt;</th><th scope=col>&lt;dbl&gt;</th><th scope=col>&lt;int&gt;</th><th scope=col>&lt;int&gt;</th><th scope=col>&lt;int&gt;</th></tr>\n",
       "</thead>\n",
       "<tbody>\n",
       "\t<tr><th scope=row>1</th><td>1</td><td>0.6</td><td>77</td><td>76</td><td>1</td></tr>\n",
       "\t<tr><th scope=row>2</th><td>1</td><td>1.3</td><td>53</td><td>71</td><td>1</td></tr>\n",
       "\t<tr><th scope=row>3</th><td>1</td><td>2.4</td><td>45</td><td>71</td><td>1</td></tr>\n",
       "\t<tr><th scope=row>4</th><td>1</td><td>2.5</td><td>57</td><td>78</td><td>0</td></tr>\n",
       "\t<tr><th scope=row>5</th><td>1</td><td>3.2</td><td>58</td><td>74</td><td>1</td></tr>\n",
       "\t<tr><th scope=row>6</th><td>1</td><td>3.2</td><td>51</td><td>77</td><td>0</td></tr>\n",
       "</tbody>\n",
       "</table>\n"
      ],
      "text/latex": [
       "A data.frame: 6 × 5\n",
       "\\begin{tabular}{r|lllll}\n",
       "  & stage & time & age & diagyr & delta\\\\\n",
       "  & <int> & <dbl> & <int> & <int> & <int>\\\\\n",
       "\\hline\n",
       "\t1 & 1 & 0.6 & 77 & 76 & 1\\\\\n",
       "\t2 & 1 & 1.3 & 53 & 71 & 1\\\\\n",
       "\t3 & 1 & 2.4 & 45 & 71 & 1\\\\\n",
       "\t4 & 1 & 2.5 & 57 & 78 & 0\\\\\n",
       "\t5 & 1 & 3.2 & 58 & 74 & 1\\\\\n",
       "\t6 & 1 & 3.2 & 51 & 77 & 0\\\\\n",
       "\\end{tabular}\n"
      ],
      "text/markdown": [
       "\n",
       "A data.frame: 6 × 5\n",
       "\n",
       "| <!--/--> | stage &lt;int&gt; | time &lt;dbl&gt; | age &lt;int&gt; | diagyr &lt;int&gt; | delta &lt;int&gt; |\n",
       "|---|---|---|---|---|---|\n",
       "| 1 | 1 | 0.6 | 77 | 76 | 1 |\n",
       "| 2 | 1 | 1.3 | 53 | 71 | 1 |\n",
       "| 3 | 1 | 2.4 | 45 | 71 | 1 |\n",
       "| 4 | 1 | 2.5 | 57 | 78 | 0 |\n",
       "| 5 | 1 | 3.2 | 58 | 74 | 1 |\n",
       "| 6 | 1 | 3.2 | 51 | 77 | 0 |\n",
       "\n"
      ],
      "text/plain": [
       "  stage time age diagyr delta\n",
       "1 1     0.6  77  76     1    \n",
       "2 1     1.3  53  71     1    \n",
       "3 1     2.4  45  71     1    \n",
       "4 1     2.5  57  78     0    \n",
       "5 1     3.2  58  74     1    \n",
       "6 1     3.2  51  77     0    "
      ]
     },
     "metadata": {},
     "output_type": "display_data"
    }
   ],
   "source": [
    "data(larynx,package = \"KMsurv\")\n",
    "head(larynx)"
   ]
  },
  {
   "cell_type": "markdown",
   "id": "410ccab1-746f-4e85-abb6-3d5854984858",
   "metadata": {},
   "source": [
    "#### a1) Logrank and Gehan-Wilcoxon test sur la covariable stage"
   ]
  },
  {
   "cell_type": "code",
   "execution_count": 11,
   "id": "cf98f8cf-d6aa-44e8-ba7c-0cf4043eab0d",
   "metadata": {
    "tags": []
   },
   "outputs": [
    {
     "name": "stdout",
     "output_type": "stream",
     "text": [
      "[1] \"Log-rank test\"\n",
      "Call:\n",
      "survdiff(formula = surv ~ stage, data = donnee)\n",
      "\n",
      "         N Observed Expected (O-E)^2/E (O-E)^2/V\n",
      "stage=1 33       15    22.57     2.537     4.741\n",
      "stage=2 17        7    10.01     0.906     1.152\n",
      "stage=3 27       17    14.08     0.603     0.856\n",
      "stage=4 13       11     3.34    17.590    19.827\n",
      "\n",
      " Chisq= 22.8  on 3 degrees of freedom, p= 5e-05 \n",
      "[1] \"Gehan-Wilcoxon test\"\n",
      "Call:\n",
      "survdiff(formula = surv ~ stage, data = donnee, rho = 1)\n",
      "\n",
      "         N Observed Expected (O-E)^2/E (O-E)^2/V\n",
      "stage=1 33     9.26    15.78     2.694      6.48\n",
      "stage=2 17     4.66     7.18     0.884      1.47\n",
      "stage=3 27    12.77    10.06     0.730      1.35\n",
      "stage=4 13     9.15     2.82    14.219     18.78\n",
      "\n",
      " Chisq= 23.1  on 3 degrees of freedom, p= 4e-05 \n"
     ]
    },
    {
     "data": {
      "image/png": "[encoded data removed]",
      "text/plain": [
       "plot without title"
      ]
     },
     "metadata": {
      "image/png": {
       "height": 360,
       "width": 960
      }
     },
     "output_type": "display_data"
    }
   ],
   "source": [
    "donnee = larynx\n",
    "time = donnee$time\n",
    "event = donnee$delta\n",
    "\n",
    "surv <- Surv(time,event)\n",
    "\n",
    "# Test de log-rank (test par défaut), test de différence significative entre les distributions\n",
    "logrank_test <- survdiff(surv ~ stage, data = donnee)\n",
    "print('Log-rank test')\n",
    "print(logrank_test)\n",
    "\n",
    "# Test de Gehan-Wilcoxon (rho = 1)\n",
    "gehan_wilcoxon_test <- survdiff(surv ~ stage, data = donnee, rho = 1)\n",
    "print('Gehan-Wilcoxon test')\n",
    "print(gehan_wilcoxon_test)\n",
    "\n",
    "survfit_model <- survfit(surv ~ stage, data = donnee, conf.int = 0.95)\n",
    "\n",
    "# Afficher la courbe de survie séparée par sexe avec p-value\n",
    "ggsurvplot(survfit_model, \n",
    "           conf.int = TRUE,               # Ajouter les intervalles de confiance\n",
    "           pval = TRUE,                   # Afficher la p-value\n",
    "           risk.table = TRUE,             # Ajouter un tableau des risques\n",
    "           legend.title = \"stage\",         # Titre de la légende\n",
    "           legend.labs = unique(donnee$stage))  # Labels de la légende"
   ]
  },
  {
   "cell_type": "markdown",
   "id": "a8b83911-9508-4151-aa54-7a0d7f86f108",
   "metadata": {},
   "source": [
    "- Les p-valeurs sont plus petites que 0.01 donc la covariable stage a un impacte sur la durée de vie. "
   ]
  },
  {
   "cell_type": "markdown",
   "id": "564867a3-fefa-4c52-8eb8-65511a7d3411",
   "metadata": {},
   "source": [
    "#### a2) Logrank and Gehan-Wilcoxon test sur la covariable age"
   ]
  },
  {
   "cell_type": "code",
   "execution_count": 12,
   "id": "1fe2117b-fdea-4af5-9b64-8b9ca265d9d8",
   "metadata": {
    "tags": []
   },
   "outputs": [
    {
     "name": "stdout",
     "output_type": "stream",
     "text": [
      "[1] \"Log-rank test\"\n",
      "Call:\n",
      "survdiff(formula = surv ~ age, data = donnee)\n",
      "\n",
      "       N Observed Expected (O-E)^2/E (O-E)^2/V\n",
      "age=41 1        1    0.167   4.15402   4.25634\n",
      "age=43 1        1    0.444   0.69723   0.71747\n",
      "age=45 1        1    0.337   1.30181   1.33348\n",
      "age=47 2        0    1.248   1.24820   1.31036\n",
      "age=48 2        0    1.185   1.18545   1.24560\n",
      "age=49 3        2    0.846   1.57595   1.63804\n",
      "age=50 1        0    1.073   1.07251   1.12360\n",
      "age=51 3        0    1.942   1.94249   2.05886\n",
      "age=52 2        1    1.052   0.00261   0.00273\n",
      "age=53 3        2    1.543   0.13551   0.14257\n",
      "age=54 2        1    0.963   0.00139   0.00145\n",
      "age=56 1        0    1.184   1.18362   1.24806\n",
      "age=57 2        1    0.417   0.81302   0.83609\n",
      "age=58 3        1    2.210   0.66229   0.70497\n",
      "age=59 1        1    0.622   0.22950   0.23719\n",
      "age=60 2        2    0.637   2.91551   3.01906\n",
      "age=61 2        0    2.113   2.11255   2.27033\n",
      "age=62 2        2    1.317   0.35382   0.37038\n",
      "age=63 4        2    1.857   0.01106   0.01180\n",
      "age=64 4        2    1.797   0.02288   0.02425\n",
      "age=65 4        3    1.958   0.55491   0.59328\n",
      "age=66 3        0    2.210   2.21045   2.35987\n",
      "age=67 2        1    1.266   0.05598   0.05853\n",
      "age=68 5        3    4.239   0.36231   0.41074\n",
      "age=69 3        1    2.112   0.58555   0.62230\n",
      "age=70 3        2    1.919   0.00338   0.00359\n",
      "age=71 4        3    0.902   4.87812   5.09544\n",
      "age=72 2        1    0.760   0.07588   0.07874\n",
      "age=73 2        0    2.256   2.25614   2.44927\n",
      "age=74 3        2    1.321   0.34867   0.36507\n",
      "age=75 1        1    0.694   0.13500   0.13957\n",
      "age=76 2        2    0.456   5.22051   5.36769\n",
      "age=77 3        2    1.662   0.06857   0.07249\n",
      "age=78 2        1    1.325   0.07972   0.08402\n",
      "age=79 2        1    1.033   0.00107   0.00112\n",
      "age=81 3        3    1.669   1.06212   1.12623\n",
      "age=82 1        1    0.141   5.21413   5.34097\n",
      "age=84 1        1    0.504   0.48739   0.50182\n",
      "age=86 2        2    0.615   3.11837   3.22345\n",
      "\n",
      " Chisq= 53.7  on 38 degrees of freedom, p= 0.05 \n",
      "[1] \"Gehan-Wilcoxon test\"\n",
      "Call:\n",
      "survdiff(formula = surv ~ age, data = donnee, rho = 1)\n",
      "\n",
      "       N Observed Expected (O-E)^2/E (O-E)^2/V\n",
      "age=41 1    0.867    0.156  3.250794  3.567944\n",
      "age=43 1    0.675    0.362  0.269490  0.333666\n",
      "age=45 1    0.722    0.289  0.647696  0.766389\n",
      "age=47 2    0.000    0.939  0.939089  1.265028\n",
      "age=48 2    0.000    0.905  0.905282  1.206116\n",
      "age=49 3    1.844    0.680  1.994964  2.499160\n",
      "age=50 1    0.000    0.666  0.666426  1.017947\n",
      "age=51 3    0.000    1.341  1.341390  1.882517\n",
      "age=52 2    0.599    0.827  0.062631  0.081302\n",
      "age=53 3    1.622    1.089  0.261518  0.358071\n",
      "age=54 2    0.711    0.766  0.003922  0.005015\n",
      "age=56 1    0.000    0.703  0.703490  1.106453\n",
      "age=57 2    0.933    0.367  0.873886  1.012782\n",
      "age=58 3    0.711    1.503  0.417477  0.600266\n",
      "age=59 1    0.547    0.469  0.013186  0.017486\n",
      "age=60 2    1.519    0.540  1.774815  2.136211\n",
      "age=61 2    0.000    1.316  1.316306  2.042704\n",
      "age=62 2    1.121    0.917  0.045377  0.063274\n",
      "age=63 4    1.355    1.484  0.011188  0.014591\n",
      "age=64 4    1.611    1.402  0.031305  0.041133\n",
      "age=65 4    2.352    1.349  0.746204  1.072155\n",
      "age=66 3    0.000    1.560  1.560009  2.224955\n",
      "age=67 2    0.409    0.902  0.269828  0.371165\n",
      "age=68 5    1.517    2.715  0.528429  0.826684\n",
      "age=69 3    0.756    1.439  0.324523  0.463971\n",
      "age=70 3    1.111    1.422  0.068212  0.093870\n",
      "age=71 4    2.593    0.765  4.365758  5.294084\n",
      "age=72 2    0.778    0.632  0.033665  0.041333\n",
      "age=73 2    0.000    1.370  1.369916  2.172218\n",
      "age=74 3    1.294    1.038  0.062912  0.081083\n",
      "age=75 1    0.514    0.506  0.000107  0.000145\n",
      "age=76 2    1.632    0.392  3.925242  4.643122\n",
      "age=77 3    1.374    1.186  0.029646  0.041400\n",
      "age=78 2    0.900    0.837  0.004770  0.007035\n",
      "age=79 2    0.911    0.713  0.055163  0.077166\n",
      "age=81 3    1.806    1.289  0.207626  0.276698\n",
      "age=82 1    0.900    0.133  4.408333  4.780120\n",
      "age=84 1    0.613    0.401  0.112226  0.142292\n",
      "age=86 2    1.549    0.475  2.430957  3.151550\n",
      "\n",
      " Chisq= 46.6  on 38 degrees of freedom, p= 0.2 \n"
     ]
    },
    {
     "data": {
      "image/png": "[encoded data removed]",
      "text/plain": [
       "plot without title"
      ]
     },
     "metadata": {
      "image/png": {
       "height": 360,
       "width": 960
      }
     },
     "output_type": "display_data"
    }
   ],
   "source": [
    "donnee = larynx\n",
    "time = donnee$time\n",
    "event = donnee$delta\n",
    "\n",
    "surv <- Surv(time,event)\n",
    "\n",
    "# Test de log-rank (test par défaut), test de différence significative entre les distributions\n",
    "logrank_test <- survdiff(surv ~ age, data = donnee)\n",
    "print('Log-rank test')\n",
    "print(logrank_test)\n",
    "\n",
    "# Test de Gehan-Wilcoxon (rho = 1)\n",
    "gehan_wilcoxon_test <- survdiff(surv ~ age, data = donnee, rho = 1)\n",
    "print('Gehan-Wilcoxon test')\n",
    "print(gehan_wilcoxon_test)\n",
    "\n",
    "survfit_model <- survfit(surv ~ age, data = donnee, conf.int = 0)\n",
    "\n",
    "# Afficher la courbe de survie séparée par sexe avec p-value\n",
    "ggsurvplot(survfit_model, \n",
    "           conf.int = TRUE,               # Ajouter les intervalles de confiance\n",
    "           pval = TRUE,                   # Afficher la p-value\n",
    "           risk.table = TRUE,             # Ajouter un tableau des risques\n",
    "           legend.title = \"Age\",         # Titre de la légende\n",
    "           legend.labs = unique(donnee$age))  # Labels de la légende"
   ]
  },
  {
   "cell_type": "markdown",
   "id": "e2d43317-3df5-4674-a72e-403b8734bf1e",
   "metadata": {},
   "source": [
    "- Suivant le test, on a pas la même p-valeur, fonction de poids qui change "
   ]
  },
  {
   "cell_type": "markdown",
   "id": "743c9809-a044-4873-aac6-6591ea530123",
   "metadata": {},
   "source": [
    "#### b) Meilleur mode avec ou sans covariable "
   ]
  },
  {
   "cell_type": "code",
   "execution_count": 16,
   "id": "f4e0458e-544d-4b89-87f8-ec698dc45d7d",
   "metadata": {
    "tags": []
   },
   "outputs": [
    {
     "data": {
      "text/plain": [
       "\n",
       "Call:\n",
       "survreg(formula = surv ~ stage_ord, data = donnee, dist = \"weibull\")\n",
       "              Value Std. Error     z       p\n",
       "(Intercept)  2.3691     0.2396  9.89 < 2e-16\n",
       "stage_ord2  -0.0868     0.4049 -0.21   0.830\n",
       "stage_ord3  -0.5566     0.3186 -1.75   0.081\n",
       "stage_ord4  -1.5786     0.3632 -4.35 1.4e-05\n",
       "Log(scale)  -0.1226     0.1224 -1.00   0.316\n",
       "\n",
       "Scale= 0.885 \n",
       "\n",
       "Weibull distribution\n",
       "Loglik(model)= -142.4   Loglik(intercept only)= -151.1\n",
       "\tChisq= 17.4 on 3 degrees of freedom, p= 0.00058 \n",
       "Number of Newton-Raphson Iterations: 5 \n",
       "n= 90 \n"
      ]
     },
     "metadata": {},
     "output_type": "display_data"
    }
   ],
   "source": [
    "donnee = larynx\n",
    "time = donnee$time\n",
    "event = donnee$delta\n",
    "\n",
    "surv <- Surv(time,event)\n",
    "\n",
    "# On précise qu'elle est ordinale\n",
    "donnee$stage_ord <- factor(donnee$stage, ordered = FALSE)\n",
    "\n",
    "# Fit a Weibull regression model\n",
    "weibull_model <- survreg(surv ~ stage_ord, data = donnee, dist = \"weibull\")\n",
    "summary(weibull_model)"
   ]
  },
  {
   "cell_type": "markdown",
   "id": "be3ca4bb-384e-4042-be3a-cbfa9ccd6df1",
   "metadata": {},
   "source": [
    "- La regression paramétrique cherhce à prédire la durée de vie (Y=log(temps)). Le coef pour ordre4 = -1.57 donc il fait baisser la DDV.\n",
    "\n",
    "- La p-valeur générale du modèle est de 0.00058 donc les covariables sont significatives dans l'explication du modèle.\n",
    "\n",
    "- Plus précisément, les covariables significatives ici sont les niveaux 1 et 4. La p-valeur du test de significativité entre stage_ordre_1 et stage_ordre_4 est de 1.5e-05. "
   ]
  },
  {
   "cell_type": "code",
   "execution_count": 17,
   "id": "2356e42c-98e7-450a-8584-5fb434afa0e2",
   "metadata": {
    "tags": []
   },
   "outputs": [
    {
     "data": {
      "text/html": [
       "<strong>stage_ord4:</strong> -1.57859240177199"
      ],
      "text/latex": [
       "\\textbf{stage\\textbackslash{}\\_ord4:} -1.57859240177199"
      ],
      "text/markdown": [
       "**stage_ord4:** -1.57859240177199"
      ],
      "text/plain": [
       "stage_ord4 \n",
       " -1.578592 "
      ]
     },
     "metadata": {},
     "output_type": "display_data"
    }
   ],
   "source": [
    "summary(weibull_model)$coefficients[\"stage_ord4\"]"
   ]
  },
  {
   "cell_type": "markdown",
   "id": "7f20bfc0-e956-4893-b1ef-32175a1b240b",
   "metadata": {},
   "source": [
    "**Shape parameter of the Weibull**"
   ]
  },
  {
   "cell_type": "code",
   "execution_count": 18,
   "id": "f4041cc6-ab37-4b5a-858d-8fdc9ce8a8ca",
   "metadata": {
    "tags": []
   },
   "outputs": [
    {
     "name": "stdout",
     "output_type": "stream",
     "text": [
      "[1] \"Shape parameter =  1.13046789416936\"\n"
     ]
    }
   ],
   "source": [
    "# shape parameter of the Weibull\n",
    "scale <- summary(weibull_model)$scale\n",
    "print(paste(\"Shape parameter = \", 1/scale))"
   ]
  },
  {
   "cell_type": "markdown",
   "id": "6ba8c694-1352-432b-b8bf-0f17c651e46f",
   "metadata": {},
   "source": [
    "- Si le paramètre est supérieur à 1 alors la hazard function est croissante sinon elle est décroissante. \n",
    "- Donc dans notre cas, notre hazard function est croissante.\n",
    "\n",
    "**Vérification de hazard function**"
   ]
  },
  {
   "cell_type": "code",
   "execution_count": 21,
   "id": "efaf831e-ecbd-44c6-b39a-3f85118f31f7",
   "metadata": {},
   "outputs": [
    {
     "data": {
      "image/png": "[encoded data removed]",
      "text/plain": [
       "Plot with title \"Cumulative instantaneous hazard rate\""
      ]
     },
     "metadata": {
      "image/png": {
       "height": 360,
       "width": 960
      }
     },
     "output_type": "display_data"
    }
   ],
   "source": [
    "survfit_fh <- survfit(surv~ 1, data = surv,conf.int=0.95, \n",
    "        type=\"fleming-harrington\",\n",
    "        conf.type=\"plain\")\n",
    "\n",
    "naa <- -log(survfit_fh$surv) \n",
    "\n",
    "plot(survfit_fh$time,naa,type='s',main = \"Cumulative instantaneous hazard rate\")"
   ]
  },
  {
   "cell_type": "markdown",
   "id": "0844456a-80fa-41b3-bab2-f1677ca560d9",
   "metadata": {},
   "source": [
    "#### c) Variables significatives pour Log-normal modèle "
   ]
  },
  {
   "cell_type": "code",
   "execution_count": 22,
   "id": "b11e910d-ea9b-4314-b944-29abe277b2b6",
   "metadata": {
    "tags": []
   },
   "outputs": [
    {
     "data": {
      "text/plain": [
       "\n",
       "Call:\n",
       "survreg(formula = surv ~ stage_ord, data = donnee, dist = \"lognormal\")\n",
       "             Value Std. Error     z       p\n",
       "(Intercept)  2.188      0.265  8.25 < 2e-16\n",
       "stage_ord2  -0.228      0.441 -0.52   0.605\n",
       "stage_ord3  -0.889      0.364 -2.44   0.015\n",
       "stage_ord4  -1.906      0.444 -4.30 1.7e-05\n",
       "Log(scale)   0.239      0.107  2.24   0.025\n",
       "\n",
       "Scale= 1.27 \n",
       "\n",
       "Log Normal distribution\n",
       "Loglik(model)= -142.3   Loglik(intercept only)= -151.8\n",
       "\tChisq= 19.05 on 3 degrees of freedom, p= 0.00027 \n",
       "Number of Newton-Raphson Iterations: 4 \n",
       "n= 90 \n"
      ]
     },
     "metadata": {},
     "output_type": "display_data"
    }
   ],
   "source": [
    "# Fit a lognormal regression model\n",
    "lognormal_model <- survreg(surv ~ stage_ord, data = donnee, dist = \"lognormal\")\n",
    "summary(lognormal_model)"
   ]
  },
  {
   "cell_type": "markdown",
   "id": "1df7993a-cf03-4d7b-92bb-7fec0a8ed3d7",
   "metadata": {},
   "source": [
    "- On a les mêmes variables significatives"
   ]
  },
  {
   "cell_type": "code",
   "execution_count": 23,
   "id": "0f797a72-285a-40ea-a2eb-35761c2d578b",
   "metadata": {
    "tags": []
   },
   "outputs": [
    {
     "data": {
      "text/html": [
       "<strong>stage_ord4:</strong> -1.90597282100105"
      ],
      "text/latex": [
       "\\textbf{stage\\textbackslash{}\\_ord4:} -1.90597282100105"
      ],
      "text/markdown": [
       "**stage_ord4:** -1.90597282100105"
      ],
      "text/plain": [
       "stage_ord4 \n",
       " -1.905973 "
      ]
     },
     "metadata": {},
     "output_type": "display_data"
    }
   ],
   "source": [
    "summary(lognormal_model)$coefficients[\"stage_ord4\"]"
   ]
  },
  {
   "cell_type": "markdown",
   "id": "36a4f1be-ea34-44e0-afc4-3f9afd4c5eb1",
   "metadata": {},
   "source": [
    "**Paramètre de la log-normal**"
   ]
  },
  {
   "cell_type": "code",
   "execution_count": 17,
   "id": "b81a20e6-1274-4742-92b3-bebc0d2583a0",
   "metadata": {
    "tags": []
   },
   "outputs": [
    {
     "name": "stdout",
     "output_type": "stream",
     "text": [
      "[1] \"Shape parameter =  0.787425680991252\"\n"
     ]
    }
   ],
   "source": [
    "# shape parameter of the Weibull\n",
    "scale <- summary(lognormal_model)$scale\n",
    "print(paste(\"Shape parameter = \", 1/scale))"
   ]
  },
  {
   "cell_type": "markdown",
   "id": "23b97a79-89f4-418f-906b-7cbe7fcf1460",
   "metadata": {},
   "source": [
    "- **Scale** représente l'écart-type des valeurs de log(X). Un plus grand scale signifie que les données de log(X) sont plus dispersées."
   ]
  },
  {
   "cell_type": "markdown",
   "id": "7c002236-1de4-480f-b2e0-74cc82ce4565",
   "metadata": {},
   "source": [
    "## Exercice 2 : Semiparametric Regression model"
   ]
  },
  {
   "cell_type": "markdown",
   "id": "d2758101-20a1-43ab-bccd-22944d6ad788",
   "metadata": {},
   "source": [
    "### Question 1 : cox’s regression with two covariates"
   ]
  },
  {
   "cell_type": "markdown",
   "id": "560b6b2d-8dd5-4236-8003-39aded21f9c3",
   "metadata": {},
   "source": [
    "**Breslow method**"
   ]
  },
  {
   "cell_type": "code",
   "execution_count": 18,
   "id": "3ca334cb-0096-41b5-a8aa-398cf10745f1",
   "metadata": {
    "tags": []
   },
   "outputs": [
    {
     "data": {
      "text/plain": [
       "Call:\n",
       "coxph(formula = surv ~ stage_ord + age, data = donnee, method = \"breslow\")\n",
       "\n",
       "  n= 90, number of events= 50 \n",
       "\n",
       "              coef exp(coef) se(coef)     z Pr(>|z|)    \n",
       "stage_ord2 0.13856   1.14862  0.46231 0.300    0.764    \n",
       "stage_ord3 0.63835   1.89335  0.35608 1.793    0.073 .  \n",
       "stage_ord4 1.69306   5.43607  0.42221 4.010 6.07e-05 ***\n",
       "age        0.01890   1.01908  0.01425 1.326    0.185    \n",
       "---\n",
       "Signif. codes:  0 ‘***’ 0.001 ‘**’ 0.01 ‘*’ 0.05 ‘.’ 0.1 ‘ ’ 1\n",
       "\n",
       "           exp(coef) exp(-coef) lower .95 upper .95\n",
       "stage_ord2     1.149     0.8706    0.4642     2.842\n",
       "stage_ord3     1.893     0.5282    0.9422     3.805\n",
       "stage_ord4     5.436     0.1840    2.3763    12.436\n",
       "age            1.019     0.9813    0.9910     1.048\n",
       "\n",
       "Concordance= 0.682  (se = 0.039 )\n",
       "Likelihood ratio test= 18.07  on 4 df,   p=0.001\n",
       "Wald test            = 20.82  on 4 df,   p=3e-04\n",
       "Score (logrank) test = 24.33  on 4 df,   p=7e-05\n"
      ]
     },
     "metadata": {},
     "output_type": "display_data"
    }
   ],
   "source": [
    "# Breslow method\n",
    "cox_model <- coxph(surv  ~ stage_ord + age, data = donnee, method=\"breslow\")\n",
    "summary(cox_model)"
   ]
  },
  {
   "cell_type": "markdown",
   "id": "c0b5e1b4-a4ec-4a7c-ba82-001a7f86a46a",
   "metadata": {},
   "source": [
    "- Cox estime l'hazard rate donc si un coefficeint est positif  alors il augmente l'hazard rate => baisse DDV. Si exp(coef) est plus grand que 1 alors a augmente le risque (R).\n",
    "\n",
    "- Ici le coef de ordre4 =1.69 et exp(ordre4) = 5.4 donc il augmente le hazard rate donc le risque. Cela est cohérant avec le résultat précédant. \n",
    "\n",
    "- Les 3 tests sont significatifs donc cela veut dire que l'on rejette l'hypothèse que nos varaibles peuvent être mises à zéro. Donc nos covariables sont significatives. Si on regarde plus en détail on voit que c'est stage_ord4 qui est la plus significative dans le modèle.\n",
    "\n",
    "\n",
    "**Efron method**"
   ]
  },
  {
   "cell_type": "code",
   "execution_count": 19,
   "id": "6892a56f-f108-484b-9351-47a76a0459c1",
   "metadata": {
    "tags": []
   },
   "outputs": [
    {
     "data": {
      "text/plain": [
       "Call:\n",
       "coxph(formula = surv ~ stage_ord + age, data = donnee, method = \"efron\")\n",
       "\n",
       "  n= 90, number of events= 50 \n",
       "\n",
       "              coef exp(coef) se(coef)     z Pr(>|z|)    \n",
       "stage_ord2 0.14004   1.15032  0.46249 0.303   0.7620    \n",
       "stage_ord3 0.64238   1.90100  0.35611 1.804   0.0712 .  \n",
       "stage_ord4 1.70598   5.50678  0.42191 4.043 5.27e-05 ***\n",
       "age        0.01903   1.01921  0.01426 1.335   0.1820    \n",
       "---\n",
       "Signif. codes:  0 ‘***’ 0.001 ‘**’ 0.01 ‘*’ 0.05 ‘.’ 0.1 ‘ ’ 1\n",
       "\n",
       "           exp(coef) exp(-coef) lower .95 upper .95\n",
       "stage_ord2     1.150     0.8693    0.4647     2.848\n",
       "stage_ord3     1.901     0.5260    0.9459     3.820\n",
       "stage_ord4     5.507     0.1816    2.4086    12.590\n",
       "age            1.019     0.9811    0.9911     1.048\n",
       "\n",
       "Concordance= 0.682  (se = 0.039 )\n",
       "Likelihood ratio test= 18.31  on 4 df,   p=0.001\n",
       "Wald test            = 21.15  on 4 df,   p=3e-04\n",
       "Score (logrank) test = 24.78  on 4 df,   p=6e-05\n"
      ]
     },
     "metadata": {},
     "output_type": "display_data"
    }
   ],
   "source": [
    "# Efron method\n",
    "cox_model <- coxph(surv  ~ stage_ord + age, data = donnee, method=\"efron\")\n",
    "summary(cox_model)"
   ]
  },
  {
   "cell_type": "markdown",
   "id": "43aeddb5-12ca-4155-ab3f-2a388a0d3b12",
   "metadata": {},
   "source": [
    "meme conclusion"
   ]
  },
  {
   "cell_type": "markdown",
   "id": "1c3ce25b-9c96-4f84-b765-503ba9e5d075",
   "metadata": {},
   "source": [
    "- Les p-valeurs de nullité des paramètres sont encore inféroieurs à 0.05 donc le modèle est meilleur avec covaraibles.\n",
    "  \n",
    "- Stage_ord4 a un exp(coef) a environ 5.5 pour les 2 méthodes; Donc on  voit qu'il augmente le risque (R) et donc diminue la DDV."
   ]
  },
  {
   "cell_type": "markdown",
   "id": "8b5b05cd-2959-4123-ac2f-adedd01d393d",
   "metadata": {},
   "source": [
    "### Question 2 : inférence avec les covariables significatives "
   ]
  },
  {
   "cell_type": "code",
   "execution_count": 25,
   "id": "dd96dd13-6d77-45c3-ab68-56c84c5300c2",
   "metadata": {
    "tags": []
   },
   "outputs": [
    {
     "data": {
      "text/plain": [
       "Call:\n",
       "coxph(formula = surv ~ (stage_ord == 4), data = donnee, method = \"breslow\")\n",
       "\n",
       "  n= 90, number of events= 50 \n",
       "\n",
       "                     coef exp(coef) se(coef)     z Pr(>|z|)    \n",
       "stage_ord == 4TRUE 1.4799    4.3927   0.3647 4.058 4.95e-05 ***\n",
       "---\n",
       "Signif. codes:  0 '***' 0.001 '**' 0.01 '*' 0.05 '.' 0.1 ' ' 1\n",
       "\n",
       "                   exp(coef) exp(-coef) lower .95 upper .95\n",
       "stage_ord == 4TRUE     4.393     0.2277     2.149     8.978\n",
       "\n",
       "Concordance= 0.598  (se = 0.03 )\n",
       "Likelihood ratio test= 13.03  on 1 df,   p=3e-04\n",
       "Wald test            = 16.47  on 1 df,   p=5e-05\n",
       "Score (logrank) test = 19.56  on 1 df,   p=1e-05\n"
      ]
     },
     "metadata": {},
     "output_type": "display_data"
    }
   ],
   "source": [
    "# Ajuster un modèle de Cox pour stage_ord == 4\n",
    "cox_model <- coxph(surv ~ (stage_ord == 4), data = donnee, method = \"breslow\")\n",
    "summary(cox_model)"
   ]
  },
  {
   "cell_type": "markdown",
   "id": "b4859ba1-ff8b-41d8-a846-4894e7e96cae",
   "metadata": {},
   "source": [
    "- Ici on compare le stage_ord4 avec l'ensemble des variables alors que précédemment on comparait avec le stage 1.\n",
    "- Stage_ord4 est significatif. exp(coef) = 4.3 donc il fait bien baisser la DDV et augmenter le R. "
   ]
  },
  {
   "cell_type": "markdown",
   "id": "5b42fca5-b34a-48b8-a785-c7453dc4c5a2",
   "metadata": {},
   "source": [
    "### Question 3 : baseline Reliability function and its pointwise 95% IC"
   ]
  },
  {
   "cell_type": "code",
   "execution_count": 21,
   "id": "f36362b7-dbce-4401-aba3-59606e34c316",
   "metadata": {
    "tags": []
   },
   "outputs": [
    {
     "data": {
      "image/png": "[encoded data removed]",
      "text/plain": [
       "plot without title"
      ]
     },
     "metadata": {
      "image/png": {
       "height": 360,
       "width": 960
      }
     },
     "output_type": "display_data"
    }
   ],
   "source": [
    "survfit_model <- survfit(cox_model, data = donnee, conf.int = 0.95)\n",
    "\n",
    "# Afficher la courbe de survie séparée par sexe avec p-value\n",
    "ggsurvplot(survfit_model, \n",
    "           conf.int = TRUE,              # Afficher la p-value\n",
    "           risk.table = TRUE)  # Labels de la légende"
   ]
  },
  {
   "cell_type": "markdown",
   "id": "1ed378a9-8f8e-4c89-ad36-ae253a0f6b74",
   "metadata": {},
   "source": [
    "## Exercice 3 :  Survival Probabilities under Cox’s Model"
   ]
  },
  {
   "cell_type": "code",
   "execution_count": 29,
   "id": "6bc72cd2-8a4c-4db1-bb1f-bf91cfd4ebac",
   "metadata": {
    "tags": []
   },
   "outputs": [
    {
     "data": {
      "text/html": [
       "<table class=\"dataframe\">\n",
       "<caption>A data.frame: 6 × 20</caption>\n",
       "<thead>\n",
       "\t<tr><th></th><th scope=col>id</th><th scope=col>years</th><th scope=col>status</th><th scope=col>drug</th><th scope=col>age</th><th scope=col>sex</th><th scope=col>year</th><th scope=col>ascites</th><th scope=col>hepatomegaly</th><th scope=col>spiders</th><th scope=col>edema</th><th scope=col>serBilir</th><th scope=col>serChol</th><th scope=col>albumin</th><th scope=col>alkaline</th><th scope=col>SGOT</th><th scope=col>platelets</th><th scope=col>prothrombin</th><th scope=col>histologic</th><th scope=col>status2</th></tr>\n",
       "\t<tr><th></th><th scope=col>&lt;fct&gt;</th><th scope=col>&lt;dbl&gt;</th><th scope=col>&lt;fct&gt;</th><th scope=col>&lt;fct&gt;</th><th scope=col>&lt;dbl&gt;</th><th scope=col>&lt;fct&gt;</th><th scope=col>&lt;dbl&gt;</th><th scope=col>&lt;fct&gt;</th><th scope=col>&lt;fct&gt;</th><th scope=col>&lt;fct&gt;</th><th scope=col>&lt;fct&gt;</th><th scope=col>&lt;dbl&gt;</th><th scope=col>&lt;int&gt;</th><th scope=col>&lt;dbl&gt;</th><th scope=col>&lt;int&gt;</th><th scope=col>&lt;dbl&gt;</th><th scope=col>&lt;int&gt;</th><th scope=col>&lt;dbl&gt;</th><th scope=col>&lt;int&gt;</th><th scope=col>&lt;dbl&gt;</th></tr>\n",
       "</thead>\n",
       "<tbody>\n",
       "\t<tr><th scope=row>1</th><td>1</td><td> 1.095170</td><td>dead        </td><td>D-penicil</td><td>58.76684</td><td>female</td><td>0</td><td>Yes</td><td>Yes</td><td>Yes</td><td>edema despite diuretics</td><td>14.5</td><td>261</td><td>2.60</td><td>1718</td><td>138.0</td><td>190</td><td>12.2</td><td>4</td><td>1</td></tr>\n",
       "\t<tr><th scope=row>2</th><td>2</td><td>14.152338</td><td>alive       </td><td>D-penicil</td><td>56.44782</td><td>female</td><td>0</td><td>No </td><td>Yes</td><td>Yes</td><td>No edema               </td><td> 1.1</td><td>302</td><td>4.14</td><td>7395</td><td>113.5</td><td>221</td><td>10.6</td><td>3</td><td>0</td></tr>\n",
       "\t<tr><th scope=row>3</th><td>3</td><td> 2.770781</td><td>dead        </td><td>D-penicil</td><td>70.07447</td><td>male  </td><td>0</td><td>No </td><td>No </td><td>No </td><td>edema no diuretics     </td><td> 1.4</td><td>176</td><td>3.48</td><td> 516</td><td> 96.1</td><td>151</td><td>12.0</td><td>4</td><td>1</td></tr>\n",
       "\t<tr><th scope=row>4</th><td>4</td><td> 5.270507</td><td>dead        </td><td>D-penicil</td><td>54.74209</td><td>female</td><td>0</td><td>No </td><td>Yes</td><td>Yes</td><td>edema no diuretics     </td><td> 1.8</td><td>244</td><td>2.54</td><td>6122</td><td> 60.6</td><td>183</td><td>10.3</td><td>4</td><td>1</td></tr>\n",
       "\t<tr><th scope=row>5</th><td>5</td><td> 4.120578</td><td>transplanted</td><td>placebo  </td><td>38.10645</td><td>female</td><td>0</td><td>No </td><td>Yes</td><td>Yes</td><td>No edema               </td><td> 3.4</td><td>279</td><td>3.53</td><td> 671</td><td>113.2</td><td>136</td><td>10.9</td><td>3</td><td>0</td></tr>\n",
       "\t<tr><th scope=row>6</th><td>6</td><td> 6.853028</td><td>dead        </td><td>placebo  </td><td>66.26054</td><td>female</td><td>0</td><td>No </td><td>Yes</td><td>No </td><td>No edema               </td><td> 0.8</td><td>248</td><td>3.98</td><td> 944</td><td> 93.0</td><td> NA</td><td>11.0</td><td>3</td><td>1</td></tr>\n",
       "</tbody>\n",
       "</table>\n"
      ],
      "text/latex": [
       "A data.frame: 6 × 20\n",
       "\\begin{tabular}{r|llllllllllllllllllll}\n",
       "  & id & years & status & drug & age & sex & year & ascites & hepatomegaly & spiders & edema & serBilir & serChol & albumin & alkaline & SGOT & platelets & prothrombin & histologic & status2\\\\\n",
       "  & <fct> & <dbl> & <fct> & <fct> & <dbl> & <fct> & <dbl> & <fct> & <fct> & <fct> & <fct> & <dbl> & <int> & <dbl> & <int> & <dbl> & <int> & <dbl> & <int> & <dbl>\\\\\n",
       "\\hline\n",
       "\t1 & 1 &  1.095170 & dead         & D-penicil & 58.76684 & female & 0 & Yes & Yes & Yes & edema despite diuretics & 14.5 & 261 & 2.60 & 1718 & 138.0 & 190 & 12.2 & 4 & 1\\\\\n",
       "\t2 & 2 & 14.152338 & alive        & D-penicil & 56.44782 & female & 0 & No  & Yes & Yes & No edema                &  1.1 & 302 & 4.14 & 7395 & 113.5 & 221 & 10.6 & 3 & 0\\\\\n",
       "\t3 & 3 &  2.770781 & dead         & D-penicil & 70.07447 & male   & 0 & No  & No  & No  & edema no diuretics      &  1.4 & 176 & 3.48 &  516 &  96.1 & 151 & 12.0 & 4 & 1\\\\\n",
       "\t4 & 4 &  5.270507 & dead         & D-penicil & 54.74209 & female & 0 & No  & Yes & Yes & edema no diuretics      &  1.8 & 244 & 2.54 & 6122 &  60.6 & 183 & 10.3 & 4 & 1\\\\\n",
       "\t5 & 5 &  4.120578 & transplanted & placebo   & 38.10645 & female & 0 & No  & Yes & Yes & No edema                &  3.4 & 279 & 3.53 &  671 & 113.2 & 136 & 10.9 & 3 & 0\\\\\n",
       "\t6 & 6 &  6.853028 & dead         & placebo   & 66.26054 & female & 0 & No  & Yes & No  & No edema                &  0.8 & 248 & 3.98 &  944 &  93.0 &  NA & 11.0 & 3 & 1\\\\\n",
       "\\end{tabular}\n"
      ],
      "text/markdown": [
       "\n",
       "A data.frame: 6 × 20\n",
       "\n",
       "| <!--/--> | id &lt;fct&gt; | years &lt;dbl&gt; | status &lt;fct&gt; | drug &lt;fct&gt; | age &lt;dbl&gt; | sex &lt;fct&gt; | year &lt;dbl&gt; | ascites &lt;fct&gt; | hepatomegaly &lt;fct&gt; | spiders &lt;fct&gt; | edema &lt;fct&gt; | serBilir &lt;dbl&gt; | serChol &lt;int&gt; | albumin &lt;dbl&gt; | alkaline &lt;int&gt; | SGOT &lt;dbl&gt; | platelets &lt;int&gt; | prothrombin &lt;dbl&gt; | histologic &lt;int&gt; | status2 &lt;dbl&gt; |\n",
       "|---|---|---|---|---|---|---|---|---|---|---|---|---|---|---|---|---|---|---|---|---|\n",
       "| 1 | 1 |  1.095170 | dead         | D-penicil | 58.76684 | female | 0 | Yes | Yes | Yes | edema despite diuretics | 14.5 | 261 | 2.60 | 1718 | 138.0 | 190 | 12.2 | 4 | 1 |\n",
       "| 2 | 2 | 14.152338 | alive        | D-penicil | 56.44782 | female | 0 | No  | Yes | Yes | No edema                |  1.1 | 302 | 4.14 | 7395 | 113.5 | 221 | 10.6 | 3 | 0 |\n",
       "| 3 | 3 |  2.770781 | dead         | D-penicil | 70.07447 | male   | 0 | No  | No  | No  | edema no diuretics      |  1.4 | 176 | 3.48 |  516 |  96.1 | 151 | 12.0 | 4 | 1 |\n",
       "| 4 | 4 |  5.270507 | dead         | D-penicil | 54.74209 | female | 0 | No  | Yes | Yes | edema no diuretics      |  1.8 | 244 | 2.54 | 6122 |  60.6 | 183 | 10.3 | 4 | 1 |\n",
       "| 5 | 5 |  4.120578 | transplanted | placebo   | 38.10645 | female | 0 | No  | Yes | Yes | No edema                |  3.4 | 279 | 3.53 |  671 | 113.2 | 136 | 10.9 | 3 | 0 |\n",
       "| 6 | 6 |  6.853028 | dead         | placebo   | 66.26054 | female | 0 | No  | Yes | No  | No edema                |  0.8 | 248 | 3.98 |  944 |  93.0 |  NA | 11.0 | 3 | 1 |\n",
       "\n"
      ],
      "text/plain": [
       "  id years     status       drug      age      sex    year ascites hepatomegaly\n",
       "1 1   1.095170 dead         D-penicil 58.76684 female 0    Yes     Yes         \n",
       "2 2  14.152338 alive        D-penicil 56.44782 female 0    No      Yes         \n",
       "3 3   2.770781 dead         D-penicil 70.07447 male   0    No      No          \n",
       "4 4   5.270507 dead         D-penicil 54.74209 female 0    No      Yes         \n",
       "5 5   4.120578 transplanted placebo   38.10645 female 0    No      Yes         \n",
       "6 6   6.853028 dead         placebo   66.26054 female 0    No      Yes         \n",
       "  spiders edema                   serBilir serChol albumin alkaline SGOT \n",
       "1 Yes     edema despite diuretics 14.5     261     2.60    1718     138.0\n",
       "2 Yes     No edema                 1.1     302     4.14    7395     113.5\n",
       "3 No      edema no diuretics       1.4     176     3.48     516      96.1\n",
       "4 Yes     edema no diuretics       1.8     244     2.54    6122      60.6\n",
       "5 Yes     No edema                 3.4     279     3.53     671     113.2\n",
       "6 No      No edema                 0.8     248     3.98     944      93.0\n",
       "  platelets prothrombin histologic status2\n",
       "1 190       12.2        4          1      \n",
       "2 221       10.6        3          0      \n",
       "3 151       12.0        4          1      \n",
       "4 183       10.3        4          1      \n",
       "5 136       10.9        3          0      \n",
       "6  NA       11.0        3          1      "
      ]
     },
     "metadata": {},
     "output_type": "display_data"
    }
   ],
   "source": [
    "#install.packages('JM')\n",
    "library(JM)\n",
    "\n",
    "data(pbc2.id)\n",
    "head(pbc2.id)"
   ]
  },
  {
   "cell_type": "markdown",
   "id": "fee49a84-9d99-492c-a975-3c3ebf967af0",
   "metadata": {},
   "source": [
    "### Question 1 :  Cox’s semiparametric inference with covariates"
   ]
  },
  {
   "cell_type": "code",
   "execution_count": 30,
   "id": "f2f74af5-46c9-4d65-8b05-e1e48d99e39e",
   "metadata": {
    "tags": []
   },
   "outputs": [
    {
     "data": {
      "text/plain": [
       "Call:\n",
       "coxph(formula = surv ~ sex + age, data = donnee, method = \"breslow\")\n",
       "\n",
       "  n= 312, number of events= 140 \n",
       "\n",
       "               coef exp(coef)  se(coef)      z Pr(>|z|)    \n",
       "sexfemale -0.479757  0.618934  0.221308 -2.168   0.0302 *  \n",
       "age        0.041527  1.042401  0.008316  4.993 5.93e-07 ***\n",
       "---\n",
       "Signif. codes:  0 '***' 0.001 '**' 0.01 '*' 0.05 '.' 0.1 ' ' 1\n",
       "\n",
       "          exp(coef) exp(-coef) lower .95 upper .95\n",
       "sexfemale    0.6189     1.6157    0.4011     0.955\n",
       "age          1.0424     0.9593    1.0255     1.060\n",
       "\n",
       "Concordance= 0.628  (se = 0.024 )\n",
       "Likelihood ratio test= 32.54  on 2 df,   p=9e-08\n",
       "Wald test            = 34.21  on 2 df,   p=4e-08\n",
       "Score (logrank) test = 34.65  on 2 df,   p=3e-08\n"
      ]
     },
     "metadata": {},
     "output_type": "display_data"
    }
   ],
   "source": [
    "donnee = pbc2.id\n",
    "time = donnee$years\n",
    "ev = donnee$status2\n",
    "\n",
    "surv <- Surv(time,ev)\n",
    "\n",
    "cox_model <- coxph(surv  ~ sex + age, data = donnee, method=\"breslow\")\n",
    "summary(cox_model)"
   ]
  },
  {
   "cell_type": "markdown",
   "id": "0eae7002-2239-4ab9-a87c-1095a02b0aa8",
   "metadata": {},
   "source": [
    "- Les test nous donne des p-valeurs significatives donc on peut conclure que les covariables dans ce modèle sont significatives. Si on regarde plus précisement on voit que l'age est la covariable la plus influente. \n",
    "\n",
    "- De plus, l'age fait augmenter notre hazarf function (risk) donc diminuer notre durée de vie, exp(coef) = 1.04 > 1. Au contraire, le sexe F fait diminuer le hazard function (risk) et donc augmenter la durée de vie, exp(coef) = 0.6 < 1.\n",
    "\n",
    "- Donc un individu qui a 10 de plus qu'un autre a une DDV plus courte que l'autre. Un individu qui a 10 de plus a un risque exp(10*coef) plus élevé. Ca revient a dire que c'est 1.04^10 (exp(coef)^10) plus élevé."
   ]
  },
  {
   "cell_type": "markdown",
   "id": "f8dbfa62-7189-4c0d-8b33-0f6c93368401",
   "metadata": {},
   "source": [
    "### Question 2 : new dataframe "
   ]
  },
  {
   "cell_type": "code",
   "execution_count": 34,
   "id": "371723d8-1c14-4263-bd6b-ac607752cb4a",
   "metadata": {
    "tags": []
   },
   "outputs": [
    {
     "name": "stdout",
     "output_type": "stream",
     "text": [
      "     sex age\n",
      "1   male  40\n",
      "2   male  50\n",
      "3 female  40\n",
      "4 female  50\n"
     ]
    }
   ],
   "source": [
    "df <- data.frame(\n",
    "  sex = c(\"male\", \"male\", \"female\", \"female\"),\n",
    "  age = c(40, 50, 40, 50)\n",
    ")\n",
    "\n",
    "# Afficher le DataFrame\n",
    "print(df)"
   ]
  },
  {
   "cell_type": "markdown",
   "id": "ebbb6105-fdef-4152-8eca-9476e102d5c2",
   "metadata": {},
   "source": [
    "### Question 3 :  survival estimates"
   ]
  },
  {
   "cell_type": "code",
   "execution_count": 37,
   "id": "9d82b6e3-d408-4f62-afed-a861ede8f8bc",
   "metadata": {
    "tags": []
   },
   "outputs": [
    {
     "name": "stderr",
     "output_type": "stream",
     "text": [
      "Warning message in (function (survsummary, times, survtable = c(\"cumevents\", \"risk.table\", :\n",
      "\"The length of legend.labs should be 1\"\n"
     ]
    },
    {
     "data": {
      "image/png": "[encoded data removed]",
      "text/plain": [
       "plot without title"
      ]
     },
     "metadata": {
      "image/png": {
       "height": 360,
       "width": 960
      }
     },
     "output_type": "display_data"
    }
   ],
   "source": [
    "survfit_newdata <- survfit(cox_model, newdata = df)\n",
    "\n",
    "# Afficher la courbe de survie séparée par sexe avec p-value\n",
    "ggsurvplot(\n",
    "  survfit_newdata, \n",
    "  data = df,  \n",
    "  conf.int = FALSE,                # Afficher les intervalles de confiance\n",
    "  #pval = TRUE, \n",
    "  risk.table = TRUE,              # Ajouter un tableau des risques\n",
    "  legend.title = \"Individus\",     # Titre de la légende\n",
    "  legend.labs = c(\"H 40\", \"H 50\", \"F 40\", \"F 50\"))"
   ]
  }
 ],
 "metadata": {
  "kernelspec": {
   "display_name": "R",
   "language": "R",
   "name": "ir"
  },
  "language_info": {
   "codemirror_mode": "r",
   "file_extension": ".r",
   "mimetype": "text/x-r-source",
   "name": "R",
   "pygments_lexer": "r",
   "version": "4.4.2"
  }
 },
 "nbformat": 4,
 "nbformat_minor": 5
}
